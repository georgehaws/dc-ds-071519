{
 "cells": [
  {
   "cell_type": "markdown",
   "metadata": {},
   "source": [
    "Set up:\n",
    "\n",
    "Create a folder on your computer where you will create your coding warm ups using the terminal window.\n",
    "\n",
    "Open a new jupyter notebook in that folder.\n",
    "\n",
    "Complete this assignment in that jupyter notebook and save to your computer.\n",
    "\n",
    "    Create a dictionary where each object contains a list of one float (Age) and one string (Family name) (at least 5 objects)\n",
    "    Example: {Charles: [23.4, \"Darwin\"], Alan: [42.5, \"Turing\"]}\n",
    "\n",
    "    Delete one object from the dictionary\n",
    "\n",
    "    Replace the float number of one of your objects - we are changing a list entry inside a dictionary record! look at Darwin's new age\n",
    "    Example: {Charles: [99.73, \"Darwin\"], Alan: [42.5, \"Turing\"]}\n",
    "\n",
    "    Write a for loop that goes through all records in the dictionary, and assigns the float numbers into one merged list (see ages)\n",
    "    ages = [23.4, 22.9, 552.9]\n",
    "\n",
    "BONUS\n",
    "\n",
    "Calculate with a for loop the median and mean of the ages list\n",
    "\n"
   ]
  },
  {
   "cell_type": "code",
   "execution_count": 8,
   "metadata": {},
   "outputs": [],
   "source": [
    "l1 = [40.0,\"Marley\"]\n",
    "l2 = [55.1, \"Murray\"]\n",
    "l3 = [27.2, \"Morrison\"]\n",
    "l4 = [27.1, \"Cobain\"]\n",
    "l5 = [27.2, \"Hendrix\"]"
   ]
  },
  {
   "cell_type": "code",
   "execution_count": 15,
   "metadata": {},
   "outputs": [],
   "source": [
    "dicty = {\"Bob\": l1, \"Bill\": l2, \"Jim\": l3, \"Kurt\": l4, \"Jimmy\": l5}"
   ]
  },
  {
   "cell_type": "code",
   "execution_count": 24,
   "metadata": {},
   "outputs": [],
   "source": [
    "del dicty[\"Bob\"]"
   ]
  },
  {
   "cell_type": "code",
   "execution_count": 27,
   "metadata": {},
   "outputs": [
    {
     "data": {
      "text/plain": [
       "{'Bill': [55.1, 'Murray'],\n",
       " 'Jim': [27.2, 'Morrison'],\n",
       " 'Kurt': [27.1, 'Cobain'],\n",
       " 'Jimmy': [27.2, 'Hendrix']}"
      ]
     },
     "execution_count": 27,
     "metadata": {},
     "output_type": "execute_result"
    }
   ],
   "source": [
    "dicty"
   ]
  },
  {
   "cell_type": "code",
   "execution_count": 29,
   "metadata": {},
   "outputs": [],
   "source": [
    "dicty[\"Bill\"][0] = 99.3"
   ]
  },
  {
   "cell_type": "code",
   "execution_count": 30,
   "metadata": {},
   "outputs": [
    {
     "data": {
      "text/plain": [
       "{'Bill': [99.3, 'Murray'],\n",
       " 'Jim': [27.2, 'Morrison'],\n",
       " 'Kurt': [27.1, 'Cobain'],\n",
       " 'Jimmy': [27.2, 'Hendrix']}"
      ]
     },
     "execution_count": 30,
     "metadata": {},
     "output_type": "execute_result"
    }
   ],
   "source": [
    "dicty"
   ]
  },
  {
   "cell_type": "code",
   "execution_count": 31,
   "metadata": {},
   "outputs": [],
   "source": [
    "ages = []\n",
    "for k in dicty:\n",
    "    ages.append(dicty[k][0])\n",
    "    "
   ]
  },
  {
   "cell_type": "code",
   "execution_count": 32,
   "metadata": {},
   "outputs": [
    {
     "data": {
      "text/plain": [
       "[99.3, 27.2, 27.1, 27.2]"
      ]
     },
     "execution_count": 32,
     "metadata": {},
     "output_type": "execute_result"
    }
   ],
   "source": [
    "ages"
   ]
  },
  {
   "cell_type": "code",
   "execution_count": null,
   "metadata": {},
   "outputs": [],
   "source": []
  }
 ],
 "metadata": {
  "kernelspec": {
   "display_name": "Python 3",
   "language": "python",
   "name": "python3"
  },
  "language_info": {
   "codemirror_mode": {
    "name": "ipython",
    "version": 3
   },
   "file_extension": ".py",
   "mimetype": "text/x-python",
   "name": "python",
   "nbconvert_exporter": "python",
   "pygments_lexer": "ipython3",
   "version": "3.7.3"
  }
 },
 "nbformat": 4,
 "nbformat_minor": 2
}
